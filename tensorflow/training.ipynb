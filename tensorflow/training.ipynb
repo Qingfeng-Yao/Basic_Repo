{
 "cells": [
  {
   "cell_type": "code",
   "execution_count": null,
   "metadata": {},
   "outputs": [],
   "source": [
    "import tensorflow as tf\n",
    "\n",
    "'''\n",
    "1. 设备\n",
    "2. 其他参数设置\n",
    "3. 创建estimator\n",
    "\t3.1 定义特征嵌入表示\n",
    "\t3.2 定义网络层\n",
    "4. 训练和测试(同时处理数据集)\n",
    "'''"
   ]
  },
  {
   "cell_type": "code",
   "execution_count": null,
   "metadata": {},
   "outputs": [],
   "source": [
    "# 设备\n",
    "\n",
    "import os\n",
    "os.environ[\"CUDA_VISIBLE_DEVICES\"] = '0'"
   ]
  },
  {
   "cell_type": "code",
   "execution_count": null,
   "metadata": {},
   "outputs": [],
   "source": [
    "# 其他参数设置\n",
    "\n",
    "import argparse\n",
    "parser = argparse.ArgumentParser()"
   ]
  },
  {
   "cell_type": "code",
   "execution_count": null,
   "metadata": {},
   "outputs": [],
   "source": [
    "#  创建estimator\n",
    "\n",
    "tf.estimator.RunConfig()\n",
    "estimator = tf.estimator.Estimator()\n",
    "\n",
    "# 网络和输入输出\n",
    "# 1. 定义特征嵌入表示\n",
    "tf.compat.v1.feature_column.input_layer()\n",
    "tf.nn.embedding_lookup()\n",
    "# 2. 定义网络层\n",
    "with tf.compat.v1.variable_scope(''):\n",
    "\tpass\n",
    "\t# 网络与输入输出\n",
    "# 3. 定义输出"
   ]
  },
  {
   "cell_type": "code",
   "execution_count": null,
   "metadata": {},
   "outputs": [],
   "source": [
    "# 训练和测试(同时处理数据集)\n",
    "\n",
    "tf.estimator.experimental.stop_if_no_decrease_hook(estimator)\n",
    "train_spec = tf.estimator.TrainSpec()\n",
    "eval_spec = tf.estimator.EvalSpec()\n",
    "tf.estimator.train_and_evaluate(estimator, train_spec, eval_spec)\n",
    "\n",
    "prediction = estimator.predict()\n",
    "\n",
    "tf.estimator.ModeKeys.PREDICT # --> tf.estimator.EstimatorSpec\n",
    "tf.estimator.ModeKeys.TRAIN # 需要首先计算损失, 然后定义优化器和update_ops, 最后进行最优化训练 --> tf.estimator.EstimatorSpec\n",
    "tf.estimator.ModeKeys.EVAL # --> tf.estimator.EstimatorSpec\n",
    "\n",
    "# 指标\n",
    "labels, y = None, None\n",
    "tf.compat.v1.metrics.accuracy(labels=labels, predictions=tf.to_float(tf.greater_equal(tf.sigmoid(y),0.5)))\n",
    "tf.compat.v1.metrics.auc(labels=labels, predictions=tf.sigmoid(y)),\n",
    "tf.compat.v1.metrics.auc(labels=labels, predictions=tf.sigmoid(y), curve='PR')\n",
    "\n",
    "# 优化器\n",
    "optimizer = tf.compat.v1.train.AdagradOptimizer\n",
    "# learning_rate\n",
    "update_ops = tf.compat.v1.get_collection( tf.compat.v1.GraphKeys.UPDATE_OPS )\n",
    "cross_entropy = None\n",
    "with tf.control_dependencies(update_ops):\n",
    "\ttrain_op = optimizer.minimize(cross_entropy, global_step=tf.compat.v1.train.get_global_step())"
   ]
  }
 ],
 "metadata": {
  "language_info": {
   "name": "python"
  },
  "orig_nbformat": 4
 },
 "nbformat": 4,
 "nbformat_minor": 2
}
