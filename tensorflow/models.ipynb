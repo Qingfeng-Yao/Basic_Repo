{
 "cells": [
  {
   "cell_type": "code",
   "execution_count": null,
   "metadata": {},
   "outputs": [],
   "source": [
    "import tensorflow as tf\n",
    "from keras import backend as K"
   ]
  },
  {
   "cell_type": "code",
   "execution_count": null,
   "metadata": {},
   "outputs": [],
   "source": [
    "# 卷积\n",
    "\n",
    "tf.nn.conv2d()\n",
    "# input: 形如[batch, in_height, in_width, in_channels]\n",
    "# filter: 卷积核, 形如[filter_height, filter_width, in_channels, out_channels]\n",
    "# strides: 卷积时在图像每一维的步长, 这是一个一维的向量, 长度4\n",
    "# padding: string类型的量, 只能是\"SAME\", \"VALID\"其中之一, 这个值决定了不同的卷积方式"
   ]
  },
  {
   "cell_type": "code",
   "execution_count": null,
   "metadata": {},
   "outputs": [],
   "source": [
    "# 池化\n",
    "\n",
    "tf.nn.max_pool(name=None)\n",
    "# value: 形如[batch, height, width, channels]\n",
    "# ksize: 池化窗口的大小, 取一个四维向量, 一般是[1, height, width, 1], 因为不想在batch和channels上做池化, 所以这两个维度设为了1\n",
    "# strides: 和卷积类似, 窗口在每一个维度上滑动的步长, 一般也是[1, stride, stride, 1]\n",
    "# padding: 和卷积类似, 可以取'VALID'或者'SAME'\n",
    "# 返回形如[batch, height, width, channels]"
   ]
  },
  {
   "cell_type": "code",
   "execution_count": null,
   "metadata": {},
   "outputs": [],
   "source": [
    "# 激活函数\n",
    "\n",
    "tf.nn.softmax\n",
    "K.softmax()\n",
    "\n",
    "tf.nn.sigmoid\n",
    "tf.sigmoid\n",
    "\n",
    "tf.nn.relu\n",
    "tf.nn.sotfplus\n"
   ]
  },
  {
   "cell_type": "code",
   "execution_count": null,
   "metadata": {},
   "outputs": [],
   "source": [
    "# 网络相关\n",
    "\n",
    "# 在网络中新增变量用于最后的损失计算\n",
    "tf.add_to_collection\n",
    "tf.compat.v1.get_collection # 还可用于update_ops = tf.compat.v1.get_collection( tf.compat.v1.GraphKeys.UPDATE_OPS )\n",
    "\n",
    "run_config = tf.estimator.RunConfig()\n",
    "# 有参数save_summary_steps, log_step_count_steps, keep_checkpoint_max, save_checkpoints_steps\n",
    "model_fn, params, model_dir = None, None, None\n",
    "estimator = tf.estimator.Estimator(model_fn, config=run_config, params=params, model_di=model_dir)\n",
    "early_stopping = tf.estimator.experimental.stop_if_no_decrease_hook(estimator, metric_name=\"loss\", max_steps_without_decrease= 20 * 100)\n",
    "input_fn = None # 返回一个tf.data.TFRecordDataset\n",
    "train_spec = tf.estimator.TrainSpec(input_fn, hooks = [early_stopping])\n",
    "eval_spec = tf.estimator.EvalSpec(input_fn, steps = 200, throttle_secs = 60)\n",
    "tf.estimator.train_and_evaluate(estimator, train_spec, eval_spec)\n",
    "prediction = estimator.predict(input_fn)\n",
    "\n",
    "tf.estimator.ModeKeys.TRAIN\n",
    "cross_entropy, train_op = None, None # train_op用于优化器优化\n",
    "tf.estimator.EstimatorSpec(mode=tf.estimator.ModeKeys.TRAIN, loss=cross_entropy, train_op=train_op)\n",
    "\n",
    "tf.estimator.ModeKeys.EVAL\n",
    "eval_metric_ops = {}\n",
    "tf.estimator.EstimatorSpec(mode=tf.estimator.ModeKeys.EVAL, loss=cross_entropy, eval_metric_ops=eval_metric_ops)\n",
    "\n",
    "tf.estimator.ModeKeys.PREDICT\n",
    "predictions = {}\n",
    "tf.estimator.EstimatorSpec(mode=tf.estimator.ModeKeys.PREDICT, predictions=predictions)\n",
    "\n",
    "tf.nn.l2_normalize() # 元素除以各自的范数, 参数为tensor\n",
    "tf.nn.local_response_normalization(input, depth_radius=None, bias=None, alpha=None, beta=None, name=None)\n",
    "# input: 形如[batch, height, width, channels]\n",
    "inputs = None\n",
    "tf.layers.batch_normalization(inputs, center = True, scale = True, trainable = True, training = True)\n",
    "# training根据[tf.estimator.ModeKeys.TRAIN]判断\n",
    "from tensorflow.contrib import layers\n",
    "layers.layer_norm()\n",
    "# begin_norm_axis, begin_params_axis\n",
    "\n",
    "dropout_rate = None\n",
    "tf.layers.dropout(inputs, rate = dropout_rate, training = True)\n",
    "# training根据[tf.estimator.ModeKeys.TRAIN]判断\n",
    "\n",
    "tf.nn.embedding_lookup(tensor, id) # tensor就是输入张量, id就是张量对应的索引, 得到特征嵌入表示\n",
    "\n",
    "inputs = None\n",
    "tf.layers.dense(inputs, units = 64, activation = 'relu', name = 'dense')"
   ]
  },
  {
   "cell_type": "code",
   "execution_count": null,
   "metadata": {},
   "outputs": [],
   "source": [
    "# 损失函数\n",
    "\n",
    "tf.nn.sigmoid_cross_entropy_with_logits() # logits的输出维度可为1\n",
    "# labels, logits\n",
    "tf.nn.softmax_cross_entropy_with_logits() # 其中labels要求是onehot, logits的输出维度为类别数\n",
    "\n",
    "tf.keras.backend.binary_crossentropy"
   ]
  },
  {
   "cell_type": "code",
   "execution_count": null,
   "metadata": {},
   "outputs": [],
   "source": [
    "# 初始化\n",
    "\n",
    "tf.keras.initializers.glorot_normal()\n",
    "tf.keras.initializers.RandomUniform() # 有两个参数"
   ]
  }
 ],
 "metadata": {
  "language_info": {
   "name": "python"
  },
  "orig_nbformat": 4
 },
 "nbformat": 4,
 "nbformat_minor": 2
}
