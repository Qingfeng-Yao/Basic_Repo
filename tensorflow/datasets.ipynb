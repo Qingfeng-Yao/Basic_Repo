{
 "cells": [
  {
   "cell_type": "code",
   "execution_count": null,
   "metadata": {},
   "outputs": [],
   "source": [
    "import tensorflow as tf"
   ]
  },
  {
   "cell_type": "code",
   "execution_count": null,
   "metadata": {},
   "outputs": [],
   "source": [
    "# 数据集\n",
    "\n",
    "tf.keras.utils.get_file(\n",
    "      fname=\"aclImdb.tar.gz\", \n",
    "      origin=\"http://ai.stanford.edu/~amaas/data/sentiment/aclImdb_v1.tar.gz\", \n",
    "      extract=True)\n",
    "\n",
    "dataset = tf.data.TFRecordDataset()\n",
    "# 参数为文件名\n",
    "fn = None # fn为处理每一行(每一个例子)的函数\n",
    "dataset.map(fn, num_parallel_calls=8)\n",
    "buffer_size = 512\n",
    "dataset.shuffle(buffer_size) # 只用于训练\n",
    "num_epochs = 5000\n",
    "dataset.repeat(num_epochs) # 只用于训练\n",
    "batch_size = 32\n",
    "dataset.batch(batch_size)\n",
    "padded_shapes = None # 可定义为一个元组, 第一个元素为一个字典, key为特征名, value为[](对应定长特征)或[None](对应变长特征); 第二个元素为[1]\n",
    "dataset.padded_batch(batch_size, padded_shapes) # 若数据集中含有序列特征, 使用此种batch方法"
   ]
  },
  {
   "cell_type": "code",
   "execution_count": null,
   "metadata": {},
   "outputs": [],
   "source": [
    "# 特征\n",
    "\n",
    "f = tf.feature_column.categorical_column_with_identity()\n",
    "# 第一个参数为字符串, 指明特征名\n",
    "# 还有参数num_buckets和default_value\n",
    "tf.feature_column.embedding_column(f, dimension=64)\n",
    "tf.feature_column.numeric_column()\n",
    "# 参数为特征名\n",
    "tf.compat.v1.feature_column.input_layer() # 输入特征, 得到嵌入表示\n",
    "\n",
    "tf.io.FixedLenFeature([], tf.int64)\n",
    "tf.io.VarLenFeature(tf.int64)\n",
    "line = None\n",
    "features = None # 可定义为一个字典, key为特征名, value可取上述两类特征\n",
    "features = tf.io.parse_single_example(line, features = features) # 可通过特征名访问, 如features['hist_item_list']\n",
    "# 对于变长特征需要做如下处理:\n",
    "tf.sparse.to_dense(features['hist_item_list'])"
   ]
  }
 ],
 "metadata": {
  "language_info": {
   "name": "python"
  },
  "orig_nbformat": 4
 },
 "nbformat": 4,
 "nbformat_minor": 2
}
