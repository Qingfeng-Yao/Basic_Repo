{
 "cells": [
  {
   "cell_type": "code",
   "execution_count": null,
   "metadata": {},
   "outputs": [],
   "source": [
    "from torch.utils import data"
   ]
  },
  {
   "cell_type": "code",
   "execution_count": null,
   "metadata": {},
   "outputs": [],
   "source": [
    "# torch.utils.data.Dataset\n",
    "# 可自定义数据集\n",
    "# custom_dataset = CustomDataset() \n",
    "# CustomDataset(torch.utils.data.Dataset), 需定义好__init__(self), __getitem__(self, index)和__len__(self)"
   ]
  },
  {
   "cell_type": "code",
   "execution_count": null,
   "metadata": {},
   "outputs": [],
   "source": [
    "train_set = None\n",
    "train_set = data.Subset(train_set, train_idx_normal=[])"
   ]
  },
  {
   "cell_type": "code",
   "execution_count": null,
   "metadata": {},
   "outputs": [],
   "source": [
    "dataset = None\n",
    "train_loader = data.DataLoader(dataset, 4) # 以简单的方式提供队列和线程\n",
    "# 第一个参数类型为torch.utils.data.Dataset, 第二个参数为batch_size\n",
    "# 还有参数num_workers, shuffle(训练集置为True), pin_memory\n",
    "\t# 以及batch_sampler, collate_fn, sampler(当该参数为空时, 一般pin_memory=False)\n",
    "# pin_memory \n",
    "\t# torch.utils.data.DataLoader中尽量设置pin_memory=True\n",
    "\t# 对特别小的数据集如MNIST设置pin_memory=False反而更快一些\n",
    "# num_workers\n",
    "\t# 设置需要在实验中找到最快的取值\n",
    "data_iter = iter(train_loader) # 当迭代开始时, 队列和线程开始从文件下载数据\n",
    "images, labels = data_iter.next() # Mini-batch"
   ]
  },
  {
   "cell_type": "code",
   "execution_count": null,
   "metadata": {},
   "outputs": [],
   "source": [
    "# torch.utils.data.sampler.Sampler\n",
    "# 一个迭代器基类\n",
    "\t# def __init__(self, data_source):\n",
    "    #     pass\n",
    "\n",
    "    # def __iter__(self):\n",
    "    #     raise NotImplementedError\n",
    "\n",
    "    # def __len__(self):\n",
    "    #     raise NotImplementedError\n",
    "# SequentialSampler\n",
    "\t# 按顺序对数据集采样\n",
    "\t# 在__iter__方法中首先得到一个和data_source一样长度的range可迭代器; 每次只会返回一个索引值\n",
    "\t# 即iter(range(len(self.data_source)))\n",
    "# RandomSampler: \n",
    "\t# num_samples: 指定采样的数量, 默认是所有\n",
    "\t# replacement: 若为True, 则表示可以重复采样, 即同一个样本可以重复采样, 这样可能导致有的样本采样不到; 所以此时我们可以设置num_samples来增加采样数量使得每个样本都可能被采样到\n",
    "\t# __iter__方法\n",
    "\t\t# n = len(self.data_source)\n",
    "\t\t# if self.replacement:\n",
    "\t\t# \treturn iter(torch.randint(high=n, size=(self.num_samples,), dtype=torch.int64).tolist())\n",
    "\t\t# return iter(torch.randperm(n).tolist())\n",
    "# SubsetRandomSampler\n",
    "\t# 这个采样器常见的使用场景是将训练集划分成训练集和验证集 \n",
    "\t# init函数中给定indices\n",
    "\t# iter函数返回(self.indices[i] for i in torch.randperm(len(self.indices)))\n",
    "# WeightedRandomSampler\n",
    "\t# init函数中多了参数weights\n",
    "\t# self.weights = torch.tensor(weights, dtype=torch.double) 或 self.weights = torch.DoubleTensor(weights)\n",
    "\t# iter函数返回iter(torch.multinomial(self.weights, self.num_samples, self.replacement=True).tolist())"
   ]
  }
 ],
 "metadata": {
  "language_info": {
   "name": "python"
  },
  "orig_nbformat": 4
 },
 "nbformat": 4,
 "nbformat_minor": 2
}
