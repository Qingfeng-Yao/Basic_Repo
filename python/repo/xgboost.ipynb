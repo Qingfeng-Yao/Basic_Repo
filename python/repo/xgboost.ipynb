{
 "cells": [
  {
   "cell_type": "code",
   "execution_count": null,
   "metadata": {},
   "outputs": [],
   "source": [
    "import xgboost as xgb"
   ]
  },
  {
   "cell_type": "code",
   "execution_count": null,
   "metadata": {},
   "outputs": [],
   "source": [
    "clf = xgb.XGBClassifier(max_depth=7, n_estimators=200, colsample_bytree=0.8, subsample=0.8, learning_rate=0.1)\n",
    "# n_estimators: int, 默认100, Number of boosting rounds\n",
    "# max_depth: int, Maximum tree depth for base learners \n",
    "# learning_rate: float, Boosting learning rate \n",
    "# booster: string, Specify which booster to use: gbtree, gblinear or dart\n",
    "# objective: 'binary' or 'logistic'   \n",
    "# colsample_bytree: float, Subsample ratio of columns when constructing each tree \n",
    "# subsample: float, Subsample ratio of the training instance\n",
    "# 使用的数据结构: DMatrix, 可用numpy数组/CSR矩阵"
   ]
  }
 ],
 "metadata": {
  "language_info": {
   "name": "python"
  },
  "orig_nbformat": 4
 },
 "nbformat": 4,
 "nbformat_minor": 2
}
