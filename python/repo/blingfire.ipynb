{
 "cells": [
  {
   "cell_type": "code",
   "execution_count": 1,
   "metadata": {},
   "outputs": [],
   "source": [
    "from blingfire import *"
   ]
  },
  {
   "cell_type": "code",
   "execution_count": 4,
   "metadata": {},
   "outputs": [
    {
     "name": "stdout",
     "output_type": "stream",
     "text": [
      "After reading this post, you will know: What \"natural language\" is and how it is different from other types of data.\n",
      "What makes working with natural language so challenging. [1]\n",
      "After reading this post , you will know : What \" natural language \" is and how it is different from other types of data . What makes working with natural language so challenging . [ 1 ]\n",
      "['After', 'reading', 'this', 'post', ',', 'you', 'will', 'know', ':', 'What', '\"', 'natural', 'language', '\"', 'is', 'and', 'how', 'it', 'is', 'different', 'from', 'other', 'types', 'of', 'data', '.', 'What', 'makes', 'working', 'with', 'natural', 'language', 'so', 'challenging', '.', '[', '1', ']']\n"
     ]
    }
   ],
   "source": [
    "text = 'After reading this post, you will know: What \"natural language\" is and how it is different from other types of data. What makes working with natural language so challenging. [1]'\n",
    "\n",
    "print(text_to_sentences(text))\n",
    "print(text_to_words(text))\n",
    "print(text_to_words(text).split())"
   ]
  }
 ],
 "metadata": {
  "interpreter": {
   "hash": "40d3a090f54c6569ab1632332b64b2c03c39dcf918b08424e98f38b5ae0af88f"
  },
  "kernelspec": {
   "display_name": "Python 3.7.4 ('base')",
   "language": "python",
   "name": "python3"
  },
  "language_info": {
   "codemirror_mode": {
    "name": "ipython",
    "version": 3
   },
   "file_extension": ".py",
   "mimetype": "text/x-python",
   "name": "python",
   "nbconvert_exporter": "python",
   "pygments_lexer": "ipython3",
   "version": "3.7.4"
  },
  "orig_nbformat": 4
 },
 "nbformat": 4,
 "nbformat_minor": 2
}
