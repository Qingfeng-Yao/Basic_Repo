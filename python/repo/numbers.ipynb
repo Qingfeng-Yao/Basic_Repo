{
 "cells": [
  {
   "cell_type": "code",
   "execution_count": null,
   "metadata": {},
   "outputs": [],
   "source": [
    "import numbers"
   ]
  },
  {
   "cell_type": "code",
   "execution_count": null,
   "metadata": {},
   "outputs": [],
   "source": [
    "# numbers.Integral\n",
    "import hashlib\n",
    "def hashfunc(x):\n",
    "    return hashlib.md5(x).digest()\n",
    "isinstance(hashfunc(b\"test\"), numbers.Integral) # False"
   ]
  }
 ],
 "metadata": {
  "language_info": {
   "name": "python"
  },
  "orig_nbformat": 4
 },
 "nbformat": 4,
 "nbformat_minor": 2
}
