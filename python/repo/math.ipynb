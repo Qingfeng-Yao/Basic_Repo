{
 "cells": [
  {
   "cell_type": "code",
   "execution_count": null,
   "metadata": {},
   "outputs": [],
   "source": [
    "import math\n",
    "\n",
    "math.pi"
   ]
  },
  {
   "cell_type": "code",
   "execution_count": null,
   "metadata": {},
   "outputs": [],
   "source": [
    "math.exp(1) # 2.718281828459045\n",
    "\n",
    "# log()返回x的自然对数\n",
    "math.log(math.exp(1)) # 1.0\n",
    "math.log(2,2) # 第二参数为底数, 1.0\n",
    "math.log(math.pi)\n",
    "\n",
    "math.pow(2,3) # 返回8.0"
   ]
  },
  {
   "cell_type": "code",
   "execution_count": null,
   "metadata": {},
   "outputs": [],
   "source": [
    "math.ceil(32 * 0.05) # 32*0.05=1.6, 2"
   ]
  },
  {
   "cell_type": "code",
   "execution_count": null,
   "metadata": {},
   "outputs": [],
   "source": [
    "math.radians() # 将角度转换为弧度\n",
    "\n",
    "math.sin(), math.cos()"
   ]
  }
 ],
 "metadata": {
  "language_info": {
   "name": "python"
  },
  "orig_nbformat": 4
 },
 "nbformat": 4,
 "nbformat_minor": 2
}
