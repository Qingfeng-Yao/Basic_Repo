{
 "cells": [
  {
   "cell_type": "code",
   "execution_count": null,
   "metadata": {},
   "outputs": [],
   "source": [
    "import csv"
   ]
  },
  {
   "cell_type": "code",
   "execution_count": null,
   "metadata": {},
   "outputs": [],
   "source": [
    "# 打开csv文件\n",
    "path = \"\"\n",
    "with open(path) as csvfile:\n",
    "\tcsv_reader = csv.reader(csvfile)\n",
    "\theader = next(csv_reader) # 打印列名\n",
    "\tfor row in csv_reader: \n",
    "\t\tprint(row) # 返回的是列表\n",
    "# 或者使用pandas读取(pandas读取要慢)\n",
    "# csv读取到的是str"
   ]
  },
  {
   "cell_type": "code",
   "execution_count": null,
   "metadata": {},
   "outputs": [],
   "source": [
    "with open(path, 'w') as f:\n",
    "    tsv_w = csv.writer(f, delimiter='\\t')\n",
    "    tsv_w.writerow([\"index\",\"a_name\",\"b_name\"])\n",
    "    tsv_w.writerows([[0,1,3],[1,2,3],[2,3,4]])"
   ]
  }
 ],
 "metadata": {
  "language_info": {
   "name": "python"
  },
  "orig_nbformat": 4
 },
 "nbformat": 4,
 "nbformat_minor": 2
}
