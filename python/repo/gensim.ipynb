{
 "cells": [
  {
   "cell_type": "code",
   "execution_count": null,
   "metadata": {},
   "outputs": [],
   "source": [
    "from gensim import models\n",
    "from gensim.models import KeyedVectors"
   ]
  },
  {
   "cell_type": "code",
   "execution_count": null,
   "metadata": {},
   "outputs": [],
   "source": [
    "# Word2Vec\n",
    "# model = models.Word2Vec(text_list, workers, min_count, window, vector_size, sg, iter) \n",
    "\t# text_list列表中每一个元素可以是空格隔开的字符串, 或是其他分隔符号如逗号隔开的字符串\n",
    "\t# sg: 1代表skip-gram, 0代表CBOW \n",
    "\t# epochs, size\n",
    "\t# model.wv.index2word\n",
    "\t# model.wv.vectors\n",
    "\t# model.wv[w]得到w对应的向量\n",
    "\t# embeddings_index = dict(zip(model.wv.index2word, model.wv.vectors))\n",
    "# 词向量到句向量\n",
    "# def sent2vec(s):\n",
    "#     M = []\n",
    "#     words = s.split()\n",
    "#     for w in words:\n",
    "#         try:\n",
    "#             M.append(embeddings_index[w])\n",
    "#         except:\n",
    "#             continue\n",
    "#     M = np.array(M)\n",
    "#     v = M.sum(axis=0)\n",
    "#     if type(v) != np.ndarray:\n",
    "#         return np.zeros(100)\n",
    "#     return v / np.sqrt((v ** 2).sum())\n",
    "# 中文模型\n",
    "\t# model = models.Word2Vec.load('./model/wiki.zh.text.model')\n",
    "\n",
    "# FastText\n",
    "# model = models.FastText(vector_size=4, window=3, min_count=1)"
   ]
  },
  {
   "cell_type": "code",
   "execution_count": null,
   "metadata": {},
   "outputs": [],
   "source": [
    "# model = KeyedVectors.load_word2vec_format(file_path)\n",
    "\t# file_path可取'wiki-news-300d-1M.vec'(fasttext), 需要提前下载\n",
    "\t# url='https://dl.fbaipublicfiles.com/fasttext/vectors-english/wiki-news-300d-1M.vec.zip'\n",
    "\t# req = urllib.request.Request(url), file = urllib.request.urlopen(req), with open(os.path.join(dest_dir, dest_file), 'wb') as output: output.write(file.read())\n",
    "# 中文模型\n",
    "# model = KeyedVectors.load_word2vec_format('sgns.zhihu.word')\n",
    "# model.most_similar('数学')"
   ]
  },
  {
   "cell_type": "code",
   "execution_count": null,
   "metadata": {},
   "outputs": [],
   "source": [
    "from gensim.test.utils import common_texts, lee_corpus_lists\n",
    "print(common_texts[0])\n",
    "print(len(common_texts))\n",
    "'''\n",
    "['human', 'interface', 'computer']\n",
    "9\n",
    "'''"
   ]
  }
 ],
 "metadata": {
  "language_info": {
   "name": "python"
  },
  "orig_nbformat": 4
 },
 "nbformat": 4,
 "nbformat_minor": 2
}
