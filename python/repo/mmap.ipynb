{
 "cells": [
  {
   "cell_type": "code",
   "execution_count": null,
   "metadata": {},
   "outputs": [],
   "source": [
    "from mmap import mmap \n",
    "# mmap是一种虚拟内存映射文件的方法\n",
    "# 即将一个文件或者其它对象映射到进程的地址空间, 实现文件磁盘地址和进程虚拟地址空间中一段虚拟地址的一一对映关系"
   ]
  },
  {
   "cell_type": "code",
   "execution_count": null,
   "metadata": {},
   "outputs": [],
   "source": [
    "# 分批读入数据要记录每次读入数据的位置\n",
    "# mmap函数: \n",
    "    # 第一个参数是文件描述符\n",
    "    # 第二个参数是要映射文件部分的大小(以字节为单位)\n",
    "    # 这个值为0, 则映射整个文件, 如果大小大于文件当前大小, 则扩展这个文件\n",
    "def get_lines(fp):\n",
    "    with open(fp,\"r+\") as f: # r是只读, r+是读写\n",
    "        m = mmap(f.fileno(), 0)\n",
    "        tmp = 0\n",
    "        for i, char in enumerate(m):\n",
    "            if char==b\"\\n\":\n",
    "                yield m[tmp:i+1].decode()\n",
    "                tmp = i+1"
   ]
  }
 ],
 "metadata": {
  "language_info": {
   "name": "python"
  },
  "orig_nbformat": 4
 },
 "nbformat": 4,
 "nbformat_minor": 2
}
