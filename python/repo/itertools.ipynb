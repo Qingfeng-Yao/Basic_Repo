{
 "cells": [
  {
   "cell_type": "code",
   "execution_count": null,
   "metadata": {},
   "outputs": [],
   "source": [
    "import itertools "
   ]
  },
  {
   "cell_type": "code",
   "execution_count": null,
   "metadata": {},
   "outputs": [],
   "source": [
    "# 排列组合\n",
    "print(list(itertools.combinations(\"abc\",2)))\n",
    "print(list(itertools.permutations(\"abc\",2)))\n",
    "'''\n",
    "[('a', 'b'), ('a', 'c'), ('b', 'c')]\n",
    "[('a', 'b'), ('a', 'c'), ('b', 'a'), ('b', 'c'), ('c', 'a'), ('c', 'b')]\n",
    "'''"
   ]
  },
  {
   "cell_type": "code",
   "execution_count": null,
   "metadata": {},
   "outputs": [],
   "source": [
    "from itertools import combinations_with_replacement \n",
    "\n",
    "a =\"GEeks\"\n",
    "print(list(combinations_with_replacement(a, 2))) # 包括本身\n",
    "'''\n",
    "[('G', 'G'), ('G', 'E'), ('G', 'e'), ('G', 'k'), ('G', 's'), ('E', 'E'), ('E', 'e'), ('E', 'k'), ('E', 's'), ('e', 'e'), ('e', 'k'), ('e', 's'), ('k', 'k'), ('k', 's'), ('s', 's')]\n",
    "'''"
   ]
  },
  {
   "cell_type": "code",
   "execution_count": null,
   "metadata": {},
   "outputs": [],
   "source": [
    "from itertools import accumulate\n",
    "\n",
    "s=[1,2,3]\n",
    "print(list(accumulate(s))) # [1, 3, 6]"
   ]
  },
  {
   "cell_type": "code",
   "execution_count": null,
   "metadata": {},
   "outputs": [],
   "source": [
    "# 集合的笛卡尔乘积是从所有集合中选择每种可能的组合\n",
    "f = lambda x: (x.lower(), x.upper()) if x.isalpha() else x\n",
    "a =\"GEe2ks3\"\n",
    "print(list(map(f, a)))\n",
    "print(list(map(\"\".join, itertools.product(*map(f, a)))))\n",
    "'''\n",
    "[('g', 'G'), ('e', 'E'), ('e', 'E'), '2', ('k', 'K'), ('s', 'S'), '3']\n",
    "['gee2ks3', 'gee2kS3', 'gee2Ks3', 'gee2KS3', 'geE2ks3', 'geE2kS3', 'geE2Ks3', 'geE2KS3', 'gEe2ks3', 'gEe2kS3', 'gEe2Ks3', 'gEe2KS3', 'gEE2ks3', 'gEE2kS3', 'gEE2Ks3', 'gEE2KS3', 'Gee2ks3', 'Gee2kS3', 'Gee2Ks3', 'Gee2KS3', 'GeE2ks3', 'GeE2kS3', 'GeE2Ks3', 'GeE2KS3', 'GEe2ks3', 'GEe2kS3', 'GEe2Ks3', 'GEe2KS3', 'GEE2ks3', 'GEE2kS3', 'GEE2Ks3', 'GEE2KS3']\n",
    "'''"
   ]
  },
  {
   "cell_type": "code",
   "execution_count": null,
   "metadata": {},
   "outputs": [],
   "source": [
    "from itertools import chain\n",
    "# chain()可以把一组迭代对象串联起来, 形成一个更大的迭代器\n",
    "# chain.from_iterable()\n",
    "from_iterable = chain.from_iterable(['geeks', 'for', 'fafa', ['w', 'i', 'n', 's']])\n",
    "print(list(from_iterable))\n",
    "# ['g', 'e', 'e', 'k', 's', 'f', 'o', 'r', 'f', 'a', 'f', 'a', 'w', 'i', 'n', 's']"
   ]
  },
  {
   "cell_type": "code",
   "execution_count": null,
   "metadata": {},
   "outputs": [],
   "source": [
    "from itertools import groupby\n",
    "a = [1,2,3,3,3,4,4]\n",
    "features = {k:sum(1 for _ in g) for k, g in groupby(sorted(a))}\n",
    "print(features) # {1: 1, 2: 1, 3: 3, 4: 2}"
   ]
  }
 ],
 "metadata": {
  "language_info": {
   "name": "python"
  },
  "orig_nbformat": 4
 },
 "nbformat": 4,
 "nbformat_minor": 2
}
