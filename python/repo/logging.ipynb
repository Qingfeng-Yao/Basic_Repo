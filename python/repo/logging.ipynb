{
 "cells": [
  {
   "cell_type": "code",
   "execution_count": null,
   "metadata": {},
   "outputs": [],
   "source": [
    "import logging"
   ]
  },
  {
   "cell_type": "code",
   "execution_count": null,
   "metadata": {},
   "outputs": [],
   "source": [
    "logging.basicConfig(level=logging.INFO) # logging模块提供的日志记录函数所使用的日志器设置的日志级别是WARNING, 因此只有WARNING级别的日志记录以及大于它的ERROR和CRITICAL级别的日志记录被输出了, 而小于它的DEBUG和INFO级别的日志记录被丢弃了\n",
    "logger = logging.getLogger() # 可传入一个字符串进行标记\n",
    "logger.setLevel(logging.INFO)\n",
    "\n",
    "formatter = logging.Formatter('%(asctime)s - %(name)s - %(levelname)s - %(message)s') \n",
    "# name: logger的名字\n",
    "file_handler = logging.FileHandler(\"prediction.log\")\n",
    "file_handler.setLevel(logging.INFO)\n",
    "file_handler.setFormatter(formatter)\n",
    "logger.addHandler(file_handler)\n",
    "logger.info('xxx')\n",
    "\n",
    "# 创建一个handler, 用于输出到控制台\n",
    "formatter = logging.Formatter('%(asctime)s - [%(filename)s:%(lineno)s] - %(levelname)s - %(message)s ')\n",
    "# filename: 调用日志输出函数的模块的文件名\n",
    "# lineno: 调用日志输出函数的语句所在的代码行\n",
    "ch = logging.StreamHandler()\n",
    "ch.setLevel(logging.INFO)\n",
    "ch.setFormatter(formatter)"
   ]
  },
  {
   "cell_type": "code",
   "execution_count": null,
   "metadata": {},
   "outputs": [],
   "source": [
    "logging.basicConfig(\n",
    "    level=logging.INFO,\n",
    "    format=\"%(asctime)s | %(message)s\", # format='%(asctime)s P%(process)d %(levelname)s %(message)s'\n",
    "    handlers=[\n",
    "        logging.FileHandler('prediction.log'), # logging.FileHandler(log_file, mode='w')\n",
    "        logging.StreamHandler()\n",
    "    ])\n",
    "logging.info('Prediction on unlabeled data')"
   ]
  },
  {
   "cell_type": "code",
   "execution_count": null,
   "metadata": {},
   "outputs": [],
   "source": [
    "# 若要使日志显示在文件中, 请执行以下两行; 一般logging.root.handlers为空\n",
    "for handler in logging.root.handlers[:]: \n",
    "    logging.root.removeHandler(handler)"
   ]
  }
 ],
 "metadata": {
  "language_info": {
   "name": "python"
  },
  "orig_nbformat": 4
 },
 "nbformat": 4,
 "nbformat_minor": 2
}
