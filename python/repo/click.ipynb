{
 "cells": [
  {
   "cell_type": "code",
   "execution_count": null,
   "metadata": {},
   "outputs": [],
   "source": [
    "import click"
   ]
  },
  {
   "cell_type": "code",
   "execution_count": null,
   "metadata": {},
   "outputs": [],
   "source": [
    "@click.command() # click是通过装饰器来把一个函数方法装饰成命令行接口的, 这个装饰器方法就是@click.command()\n",
    "@click.argument('xxx') # 命令行直接给出对应值\n",
    "@click.option('--xxx') # 命令行需要先--xxx, 再给出对应值\n",
    "# 还可包括参数type, default, help, is_flag(布尔值)\n",
    "    # 其中type可取值: click.Choice([xx,xx,xx]), click.Path(exists=True), str, int, float\n",
    "    # 参数multiple=True允许多个选项赋值\n",
    "        # 如: @click.option('--lr_milestone', type=int, default=0, multiple=True, help='xxx')\n",
    "        # 命令行传入--lr_milestone 40\n",
    "        # 实际是个元组\n",
    "# 在后续的主函数中需要传入上述所有参数"
   ]
  }
 ],
 "metadata": {
  "language_info": {
   "name": "python"
  },
  "orig_nbformat": 4
 },
 "nbformat": 4,
 "nbformat_minor": 2
}
