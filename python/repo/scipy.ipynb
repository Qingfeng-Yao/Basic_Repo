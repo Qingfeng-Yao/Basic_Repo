{
 "cells": [
  {
   "cell_type": "code",
   "execution_count": null,
   "metadata": {},
   "outputs": [],
   "source": [
    "import scipy\n",
    "\n",
    "'''\n",
    "1. 数据类型\n",
    "2. 计算\n",
    "3. 读写\n",
    "'''"
   ]
  },
  {
   "cell_type": "code",
   "execution_count": null,
   "metadata": {},
   "outputs": [],
   "source": [
    "# 数据类型\n",
    "\n",
    "# csr_matrix\n",
    "my_matrix = scipy.sparse.csr_matrix((2,2))\n",
    "# csr_matrix转成ndarray\n",
    "my_array = my_matrix.A\n",
    "# ndarray转成csr_matrix\n",
    "A = np.array([[1,2,0],[0,0,3],[1,0,4]])\n",
    "sA = scipy.sparse.csr_matrix(A)\n",
    "# sklearn的TfidfVectorizer得到的tfidf向量矩阵类型是<class 'scipy.sparse.csr.csr_matrix'>"
   ]
  },
  {
   "cell_type": "code",
   "execution_count": null,
   "metadata": {},
   "outputs": [],
   "source": [
    "# 计算\n",
    "\n",
    "# 距离计算\n",
    "import numpy as np\n",
    "Z = np.random.random((10,2))\n",
    "D = scipy.spatial.distance.cdist(Z,Z) # 计算点与点之间的距离\n",
    "\n",
    "# 分布\n",
    "# pdf: Probability density function; rvs: Random variates; cdf: Cumulative distribution function\n",
    "# sf: Survival function(1 - cdf); ppf: Percent point function(inverse of cdf)\n",
    "# lognormal连续随机变量, lognorm(x, s), s为shape参数, 定义随机变量(x未知)\n",
    "scipy.stats.lognorm(0.5,0.5).ppf(0.367) # ppf函数参数有loc和scale\n",
    "\n",
    "# 积分\n",
    "from scipy import integrate\n",
    "# integrate.quad(f,a,b) # 单变量积分\n",
    "integrate.quad(lambda x:x**2,0,1) # (0.33333333333333337, 3.700743415417189e-15), 前者是积分值, 后者是误差\n",
    "# 二重积分: integrate.dblquad(f,a,b,y_1,y_2), 其中f为被积函数, a, b是变量x的上下限, y_1, y_2是变量y的上下限, 是关于x的函数; 定义函数f时, y要在x的前面\n",
    "# 三重积分: integrate.tplquad(f,a,b,y_1,y_2,z_1,z_2)\n",
    "\n",
    "# 线性代数\n",
    "import scipy.linalg\n",
    "scipy.linalg.det() # 计算方阵的行列式\n",
    "scipy.linalg.inv() # 计算方阵的逆矩阵\n",
    "scipy.linalg.eig() # 计算方阵的特征向量\n",
    "scipy.linalg.svd() # 对矩阵进行奇异值分解\n",
    "scipy.linalg.lu() # 对矩阵进行LU分解, 输出P, L, U\n",
    "scipy.linalg.qr() # 对矩阵进行QR分解\n",
    "# scipy.linalg.solve(arr,b) # 求方程组arr*x=b的解"
   ]
  },
  {
   "cell_type": "code",
   "execution_count": null,
   "metadata": {},
   "outputs": [],
   "source": [
    "# 读写\n",
    "\n",
    "# 下载MATLAB文件, 返回一个字典, 变量名为keys, 矩阵为values\n",
    "root = \"\"\n",
    "mat_data = scipy.io.loadmat(root) # root如cifar10-gist\n",
    "# scipy.io.savemat\n",
    "# numpy数据格式\n",
    "mat_data['testgnd'].astype(int)"
   ]
  }
 ],
 "metadata": {
  "language_info": {
   "name": "python"
  },
  "orig_nbformat": 4
 },
 "nbformat": 4,
 "nbformat_minor": 2
}
