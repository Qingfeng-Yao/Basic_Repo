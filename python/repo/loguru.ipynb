{
 "cells": [
  {
   "cell_type": "code",
   "execution_count": null,
   "metadata": {},
   "outputs": [],
   "source": [
    "from loguru import logger"
   ]
  },
  {
   "cell_type": "code",
   "execution_count": null,
   "metadata": {},
   "outputs": [],
   "source": [
    "args = None\n",
    "logger.add('logs/{}.log'.format(args.dataset), rotation='500 MB', level='INFO')\n",
    "# 通过上面的配置可以实现每500 MB储存一个文件, 每个log文件过大就会创建一个log文件\n",
    "logger.info(args)\n",
    "logger.remove()"
   ]
  }
 ],
 "metadata": {
  "language_info": {
   "name": "python"
  },
  "orig_nbformat": 4
 },
 "nbformat": 4,
 "nbformat_minor": 2
}
