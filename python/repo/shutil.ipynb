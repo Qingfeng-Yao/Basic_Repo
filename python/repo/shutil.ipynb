{
 "cells": [
  {
   "cell_type": "code",
   "execution_count": null,
   "metadata": {},
   "outputs": [],
   "source": [
    "import shutil \n",
    "# shutil提供了一系列对文件和文件集合的高阶操作"
   ]
  },
  {
   "cell_type": "code",
   "execution_count": null,
   "metadata": {},
   "outputs": [],
   "source": [
    "log_dir = \"log\"\n",
    "shutil.rmtree(log_dir) # 递归删除一个目录以及目录内的所有内容, 即log_dir消失\n",
    "\n",
    "source_dir_path = \"\"\n",
    "target_dir_path = \"\"\n",
    "shutil.copytree(source_dir_path, target_dir_path, ignore=shutil.ignore_patterns(\"__pycache__\"))"
   ]
  },
  {
   "cell_type": "code",
   "execution_count": null,
   "metadata": {},
   "outputs": [],
   "source": [
    "# shutil.copyfileobj(fsrc, fdst) # 将文件类对象fsrc的内容拷贝到文件类对象fdst\n",
    "url = \"\"\n",
    "filename = \"name\"\n",
    "import urllib\n",
    "with urllib.request.urlopen(url) as response, open(filename, 'wb') as outfile:\n",
    "\tshutil.copyfileobj(response, outfile)\n",
    "\n",
    "file_path = \"path1\"\n",
    "new_file_path = \"path2\"\n",
    "shutil.copy(file_path,new_file_path) \n",
    "shutil.copyfile(filename, filename.replace('pth.tar', 'best.pth.tar')) # 目标文件无需存在"
   ]
  }
 ],
 "metadata": {
  "language_info": {
   "name": "python"
  },
  "orig_nbformat": 4
 },
 "nbformat": 4,
 "nbformat_minor": 2
}
