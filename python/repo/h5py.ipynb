{
 "cells": [
  {
   "cell_type": "code",
   "execution_count": null,
   "metadata": {},
   "outputs": [],
   "source": [
    "import h5py"
   ]
  },
  {
   "cell_type": "code",
   "execution_count": null,
   "metadata": {},
   "outputs": [],
   "source": [
    "path = None\n",
    "h5py.File(path, 'r') # 打开hdf5文件\n",
    "# 一个hdf5文件是一个由两种基本数据对象(groups和datasets)存放多种科学数据的容器\n",
    "# hdf5 dataset: 数据元素的一个多维数组以及支持元数据(metadata)\n",
    "# hdf5 group: 包含0个或多个hdf5对象以及支持元数据(metadata)的一个群组结构\n",
    "# dataset是类似于数组的数据集, 而group是类似文件夹一样的容器, 存放dataset和其他group\n",
    "# group和dataset在h5py中的使用有点类似于词典和Numpy中数组的用法\n",
    "h5py.File(path, 'w') # 写\n",
    "# f.create_dataset('X_train', data=X) # X是numpy数组; 之后读取时可X = f['X_train']"
   ]
  }
 ],
 "metadata": {
  "language_info": {
   "name": "python"
  },
  "orig_nbformat": 4
 },
 "nbformat": 4,
 "nbformat_minor": 2
}
