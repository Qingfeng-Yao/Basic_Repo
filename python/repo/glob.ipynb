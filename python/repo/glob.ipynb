{
 "cells": [
  {
   "cell_type": "code",
   "execution_count": null,
   "metadata": {},
   "outputs": [],
   "source": [
    "import glob"
   ]
  },
  {
   "cell_type": "code",
   "execution_count": null,
   "metadata": {},
   "outputs": [],
   "source": [
    "dirname = \"test/test_glob\"\n",
    "files = glob.glob(dirname+'/*.pkl') # 获取dir下所有的pkl文件, 每个元素都是一个路径名\n",
    "# 返回所有匹配的文件路径列表; 它只有一个参数pathname, 定义了文件路径匹配规则, 这里可以是绝对路径, 也可以是相对路径"
   ]
  },
  {
   "cell_type": "code",
   "execution_count": null,
   "metadata": {},
   "outputs": [],
   "source": [
    "# glob.iglob()函数获取一个可遍历对象\n",
    "# 与glob.glob()的区别是: glob.glob()可同时获取所有的匹配路径, 而glob.iglob()一次只能获取一个匹配路径"
   ]
  }
 ],
 "metadata": {
  "language_info": {
   "name": "python"
  },
  "orig_nbformat": 4
 },
 "nbformat": 4,
 "nbformat_minor": 2
}
