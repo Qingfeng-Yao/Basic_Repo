{
 "cells": [
  {
   "cell_type": "code",
   "execution_count": null,
   "metadata": {},
   "outputs": [],
   "source": [
    "from tensorboardX import SummaryWriter\n",
    "# from torch.utils.tensorboard import SummaryWriter\n",
    "# 使用SummaryWriter类来收集和可视化相应的数据\n",
    "# 放了方便查看, 可以使用不同的文件夹, 比如'Loss/train'和'Loss/test'"
   ]
  },
  {
   "cell_type": "code",
   "execution_count": null,
   "metadata": {},
   "outputs": [],
   "source": [
    "log_dir = \"log\"\n",
    "writer = SummaryWriter(log_dir=log_dir) # log_dir下会产生一个文件\n",
    "best_acc, epoch = None, None\n",
    "writer.add_scalar('acc/test_top1_best', best_acc, epoch)\n",
    "# writer.add_scalar: 将标量添加到summary\n",
    "# 第一个参数string/名称, 第二个参数value, 第三个参数global_step/全局同步值\n",
    "writer.add_scalars() # 添加多个标量数据到summary中\n",
    "# 第一个参数string/名称, 第二个参数value/dict, 第三个参数global_step/全局同步值\n",
    "# 两者共同点\n",
    "\t# 第一个参数可简单理解为保存到tensorboard日志文件中的标量图像的名称\n",
    "\t# 第二个参数可简单理解为图像的y轴数据\n",
    "\t# 第三个参数可简单理解为图像的x轴数据\n",
    "\t# 第四个参数都是可选参数, 用于记录发生的时间, 默认为time.time()"
   ]
  }
 ],
 "metadata": {
  "language_info": {
   "name": "python"
  },
  "orig_nbformat": 4
 },
 "nbformat": 4,
 "nbformat_minor": 2
}
