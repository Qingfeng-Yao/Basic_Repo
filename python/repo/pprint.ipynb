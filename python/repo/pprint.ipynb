{
 "cells": [
  {
   "cell_type": "code",
   "execution_count": null,
   "metadata": {},
   "outputs": [],
   "source": [
    "from pprint import pprint"
   ]
  },
  {
   "cell_type": "code",
   "execution_count": null,
   "metadata": {},
   "outputs": [],
   "source": [
    "# pprint()模块打印出来的数据结构更加完整, 每行为一个数据结构, 更加方便阅读打印输出结果\n",
    "# 特别是对于特别长的数据打印, print()输出结果都在一行, 不方便查看\n",
    "# 而pprint()采用分行打印输出, 所以对于数据结构比较复杂, 数据长度较长的数据, 适合采用pprint()打印方式"
   ]
  }
 ],
 "metadata": {
  "language_info": {
   "name": "python"
  },
  "orig_nbformat": 4
 },
 "nbformat": 4,
 "nbformat_minor": 2
}
