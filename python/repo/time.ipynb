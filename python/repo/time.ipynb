{
 "cells": [
  {
   "cell_type": "code",
   "execution_count": null,
   "metadata": {},
   "outputs": [],
   "source": [
    "import time\n",
    "time.time() # 返回当前时间的时间戳(1970纪元后经过的浮点秒数), 1653535477.1111817\n",
    "\n",
    "from timeit import default_timer\n",
    "# 准确测量小段代码的执行时间 \n",
    "# 默认的计时器, 一般是time.perf_counter()\n",
    "# time.perf_counter()方法能够在任一平台提供最高精度的计时器\n",
    "# 它也只是记录了自然时间, 记录自然时间会被很多其他因素影响, 例如计算机的负载"
   ]
  },
  {
   "cell_type": "code",
   "execution_count": null,
   "metadata": {},
   "outputs": [],
   "source": [
    "print(time.localtime(time.time()))\n",
    "'''\n",
    "time.struct_time(tm_year=2022, tm_mon=5, tm_mday=26, tm_hour=11, tm_min=24, tm_sec=39, tm_wday=3, tm_yday=146, tm_isdst=0)\n",
    "'''\n",
    "print(time.strftime('%m_%d-%H-%M-%S', time.localtime(time.time()))) # 05_26-11-24-39\n",
    "# wday: 星期, 取值区间为[0,6], 其中0代表星期一, 1代表星期二, 以此类推 \n",
    "# yday: 从每年的1月1日开始的天数, 取值区间为[0,365], 其中0代表1月1日, 1代表1月2日, 以此类推"
   ]
  }
 ],
 "metadata": {
  "language_info": {
   "name": "python"
  },
  "orig_nbformat": 4
 },
 "nbformat": 4,
 "nbformat_minor": 2
}
