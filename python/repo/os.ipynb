{
 "cells": [
  {
   "cell_type": "code",
   "execution_count": null,
   "metadata": {},
   "outputs": [],
   "source": [
    "import os"
   ]
  },
  {
   "cell_type": "code",
   "execution_count": null,
   "metadata": {},
   "outputs": [],
   "source": [
    "# 路径(path)相关\n",
    "\n",
    "log_dir = \"\"\n",
    "os.path.exists(log_dir)\n",
    "\n",
    "os.path.isdir\n",
    "os.path.isfile\n",
    "os.path.isabs # 判断path是否是一个绝对路径\n",
    "\n",
    "# os.path.join(s_path, s_child)\n",
    "\n",
    "os.path.basename() # 获取文件名, 包括后缀\n",
    "os.path.dirname  # 去掉文件名, 返回目录\n",
    "os.path.realpath(__file__) # 获取当前执行脚本的绝对路径\n",
    "os.path.abspath('.') # 查看当前目录的绝对路径\n",
    "\n",
    "# os.path.splitext\n",
    "filename = \"a.pyc\"\n",
    "name,suf = os.path.splitext(filename)\n",
    "print(name,suf) # a .pyc\n",
    "\n",
    "os.path.split # 仅仅是以 \"PATH\" 中最后一个 '/' 作为分隔符, 分隔后, 将索引为0的视为目录, 将索引为1的视为文件名"
   ]
  },
  {
   "cell_type": "code",
   "execution_count": null,
   "metadata": {},
   "outputs": [],
   "source": [
    "# 创建和删除\n",
    "\n",
    "# os.mkdir 创建目录\n",
    "\t# 递归创建目录: os.makedirs(path, mode = 0o777, exist_ok = False) \n",
    "\t# exist_ok = False, 若目标目录存在会报错; 一般设为True\n",
    "# os.rmdir 删除目录\n",
    "\n",
    "# os.remove(file) 删除文件"
   ]
  },
  {
   "cell_type": "code",
   "execution_count": null,
   "metadata": {},
   "outputs": [],
   "source": [
    "os.listdir() # 罗列所有目录和文件\n",
    "\n",
    "dir = '/home/yaoqf/yaoqingfeng/Code-Repository/python/leetcode'\n",
    "for root,dirs,files in os.walk(dir):\n",
    "    print(\"root:{}\".format(root)) # root:/home/yaoqf/yaoqingfeng/Code-Repository/python/leetcode\n",
    "    print(\"dirs:{}\".format(dirs)) # dirs:[]\n",
    "    print(\"files:{}\".format(files)) # files:['array_matrix.ipynb', 'subsequence.ipynb', 'others.ipynb', 'backtrack.ipynb', 'design.ipynb', 'string.ipynb', 'binary.ipynb', 'array_others.ipynb', 'linktable.ipynb', 'array_basic.ipynb', 'sortings.ipynb', 'tree.ipynb']"
   ]
  },
  {
   "cell_type": "code",
   "execution_count": null,
   "metadata": {},
   "outputs": [],
   "source": [
    "os.environ[\"CUDA_VISIBLE_DEVICES\"] = \"3\"\n",
    "os.environ['CUDA_VISIBLE_DEVICES'] = '0,1'\n",
    "\n",
    "os.environ['TF_CPP_MIN_LOG_LEVEL'] = '3' # needed because of the scann library\n",
    "# 设置log输出信息的, 也就是程序运行时系统打印的信息\n",
    "# namespace tensorflow {\n",
    "# const int INFO = 0;            // base_logging::INFO;\n",
    "# const int WARNING = 1;         // base_logging::WARNING;\n",
    "# const int ERROR = 2;           // base_logging::ERROR;\n",
    "# const int FATAL = 3;           // base_logging::FATAL;\n",
    "# const int NUM_SEVERITIES = 4;  // base_logging::NUM_SEVERITIES;\n",
    "# log信息共有四个等级, 按重要性递增为\n",
    "\t# INFO(通知)<WARNING(警告)<ERROR(错误)<FATAL(致命的)\n",
    "\t# 值的含义: 不同值设置的是基础log信息(base_loging), 运行时会输出base等级及其之上(更为严重)的信息\n",
    "\t# \"0\"为默认值, 输出所有信息\n",
    "\t# 设置为3时, 输出FATAL\n",
    "\n",
    "os.environ['PYTHONHASHSEED'] = \"42\" # very important to keep set operations deterministic\n",
    "os.environ[\"TOKENIZERS_PARALLELISM\"] = \"false\"\n",
    "os.environ[\"OMP_NUM_THREADS\"] = \"1\"\n",
    "os.environ[\"WORLD_SIZE\"] # node数*每个node上的gpu数, 表示全局进程个数\n",
    "os.environ[\"RANK\"] # 进程号rank"
   ]
  },
  {
   "cell_type": "code",
   "execution_count": null,
   "metadata": {},
   "outputs": [],
   "source": [
    "os.getcwd() # 用于返回当前工作目录\n",
    "\n",
    "os.name # 操作系统类型, 要获取详细的系统信息, 可以调用uname()函数\n",
    "# 在操作系统中定义的环境变量, 全部保存在os.environ这个变量中 \n",
    "# 要获取某个环境变量的值, 可以调用os.environ.get('key')\n",
    "\n",
    "# os.rename('test.txt', 'test.py')  文件重命名"
   ]
  }
 ],
 "metadata": {
  "language_info": {
   "name": "python"
  },
  "orig_nbformat": 4
 },
 "nbformat": 4,
 "nbformat_minor": 2
}
