{
 "cells": [
  {
   "cell_type": "code",
   "execution_count": 1,
   "metadata": {},
   "outputs": [],
   "source": [
    "import random\n",
    "random.seed(123)"
   ]
  },
  {
   "cell_type": "code",
   "execution_count": null,
   "metadata": {},
   "outputs": [],
   "source": [
    "from random import randint\n",
    "# randint产生的随机数区间是包含左右极限的, 也就是说左右都是闭区间的[1, n], 能取到1和n; 如randint(1, 3)"
   ]
  },
  {
   "cell_type": "code",
   "execution_count": null,
   "metadata": {},
   "outputs": [],
   "source": [
    "# 打乱一个排好序的list对象alist\n",
    "alist = [1,2,3,4,5]\n",
    "random.shuffle(alist)\n",
    "print(alist) # [5, 1, 4, 2, 3]\n",
    "\n",
    "alist = [1,2,3,4,5]\n",
    "random.sample(alist, k=2) # [2, 1]\n",
    "# 从list中随机抽取不重复的2个元素.如果k大于alist的长度, 则弹出ValueError异常\n",
    "\n",
    "alist = [1,2,3,4,5]\n",
    "random.choice(alist) # 5, 从非空序列中随机选取一个元素; 如果序列为空则弹出IndexError异常\n",
    "random.choices(alist, weights=None, cum_weights=None, k=6) # [1, 4, 1, 2, 5, 3]\n",
    "# 3.6版本新增; 从alist中随机抽取K个元素(可重复)\n",
    "# weights是相对权重列表, cum_weights是累计权重, 两个参数不能同时存在"
   ]
  }
 ],
 "metadata": {
  "interpreter": {
   "hash": "40d3a090f54c6569ab1632332b64b2c03c39dcf918b08424e98f38b5ae0af88f"
  },
  "kernelspec": {
   "display_name": "Python 3.7.4 ('base')",
   "language": "python",
   "name": "python3"
  },
  "language_info": {
   "codemirror_mode": {
    "name": "ipython",
    "version": 3
   },
   "file_extension": ".py",
   "mimetype": "text/x-python",
   "name": "python",
   "nbconvert_exporter": "python",
   "pygments_lexer": "ipython3",
   "version": "3.7.4"
  },
  "orig_nbformat": 4
 },
 "nbformat": 4,
 "nbformat_minor": 2
}
