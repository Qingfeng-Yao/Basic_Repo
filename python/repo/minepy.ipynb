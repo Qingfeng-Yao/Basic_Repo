{
 "cells": [
  {
   "cell_type": "code",
   "execution_count": null,
   "metadata": {},
   "outputs": [],
   "source": [
    "from minepy import MINE"
   ]
  },
  {
   "cell_type": "code",
   "execution_count": null,
   "metadata": {},
   "outputs": [],
   "source": [
    "# 基于最大信息的非参数估计\n",
    "import numpy as np\n",
    "x = np.linspace(0, 1, 1000)\n",
    "y = np.sin(10 * np.pi * x) + x\n",
    "mine = MINE(alpha=0.6, c=15, est=\"mic_approx\")\n",
    "# B(n) = n^alpha\n",
    "# c>0: 默认值为15\n",
    "# est: \"mic_approx\", \"mic_e\"\n",
    "mine.compute_score(x, y) # 计算x和y之间的最大归一化互信息分数\n",
    "print(mine.mic()) # 返回最大信息系数, 1.0000000000000002"
   ]
  }
 ],
 "metadata": {
  "language_info": {
   "name": "python"
  },
  "orig_nbformat": 4
 },
 "nbformat": 4,
 "nbformat_minor": 2
}
