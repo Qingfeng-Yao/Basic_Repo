{
 "cells": [
  {
   "cell_type": "code",
   "execution_count": null,
   "metadata": {},
   "outputs": [],
   "source": [
    "import datetime"
   ]
  },
  {
   "cell_type": "code",
   "execution_count": null,
   "metadata": {},
   "outputs": [],
   "source": [
    "from datetime import datetime, timedelta, timezone\n",
    "datetime.now().year\n",
    "datetime.now().strftime('%Y-%m-%d_%H%M') # %w输出星期, '0'代表星期日, '6'代表星期六\n",
    "datetime.now(tz=timezone.utc) - timedelta(days=1)  \n",
    "# datetime.now(): 现在的时间, 输出形如datetime.datetime(2020, 9, 22, 10, 1, 51, 103027) \n",
    "# str转换为形如'2020-09-22 10:02:53.905482'\n",
    "# timedelta中的参数还可为hours, minutes"
   ]
  },
  {
   "cell_type": "code",
   "execution_count": null,
   "metadata": {},
   "outputs": [],
   "source": [
    "# 把一个datetime类型转换为timestamp只需要简单调用timestamp()方法   \n",
    "# timestamp是一个浮点数, 整数位表示秒, 无时区概念   \n",
    "# datetime有时区\n",
    "# 要把timestamp转换为datetime, 使用datetime提供的fromtimestamp()方法   \n",
    "# datetime.fromtimestamp(a)"
   ]
  },
  {
   "cell_type": "code",
   "execution_count": null,
   "metadata": {},
   "outputs": [],
   "source": [
    "# 输入日期, 判断这一天是这一年的第几天? 2019.4.3\n",
    "def ymd():\n",
    "    year = input(\"请输入年份: \")\n",
    "    month = input(\"请输入月份: \")\n",
    "    day = input(\"请输入天: \")\n",
    "    date1 = datetime.date(year=int(year),month=int(month),day=int(day))\n",
    "    date2 = datetime.date(year=int(year),month=1,day=1)\n",
    "    return (date1-date2).days+1\n",
    "ymd() # 93"
   ]
  }
 ],
 "metadata": {
  "language_info": {
   "name": "python"
  },
  "orig_nbformat": 4
 },
 "nbformat": 4,
 "nbformat_minor": 2
}
