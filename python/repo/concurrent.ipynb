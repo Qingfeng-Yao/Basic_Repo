{
 "cells": [
  {
   "cell_type": "code",
   "execution_count": null,
   "metadata": {},
   "outputs": [],
   "source": [
    "from concurrent.futures import ProcessPoolExecutor, as_completed\n",
    "# 为异步执行可调用对象提供了高层接口\n",
    "# 可以使用ThreadPoolExecutor来进行多线程编程, ProcessPoolExecutor进行多进程编程\n",
    "# 两者实现了同样的接口, 这些接口由抽象类Executor定义\n",
    "# 这个模块提供了两大类型, 一个是执行器类Executor, 另一个是Future类\n",
    "# 执行器用来管理工作池, future用来管理工作计算出来的结果, 通常不用直接操作future对象, 因为有丰富的API\n",
    "\n",
    "with ProcessPoolExecutor(max_workers=4) as executor:\n",
    "# executor定义的方法: \n",
    "\t# submit(fn, *args, **kwargs)\n",
    "\t\t# 安排可调用对象fn以fn(*args, **kwargs)的形式执行, 并返回Future对象来表示它的执行; 如future = executor.submit(pow, 323, 1235); print(future.result())\n",
    "\t\t# 当得到一个含有多个Future对象的列表时, 可调用as_completed()得到一个迭代器\n",
    "\t# 当使用ProcessPoolExecutor的时候, map方法会把iterables划分成多个块, 作为独立的任务提交到进程池\n",
    "\t\t# 这些块的近似大小可以通过给chunksize指定一个正整数\n",
    "\t\t# 对于很长的iterables, 使用较大的chunksize而不是采用默认值1, 可以显著提高性能\n"
   ]
  }
 ],
 "metadata": {
  "language_info": {
   "name": "python"
  },
  "orig_nbformat": 4
 },
 "nbformat": 4,
 "nbformat_minor": 2
}
