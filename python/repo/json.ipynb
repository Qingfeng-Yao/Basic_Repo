{
 "cells": [
  {
   "cell_type": "code",
   "execution_count": null,
   "metadata": {},
   "outputs": [],
   "source": [
    "import json"
   ]
  },
  {
   "cell_type": "code",
   "execution_count": null,
   "metadata": {},
   "outputs": [],
   "source": [
    "# json.dump(obj, file_object, indent=4)\n",
    "# json_str = json.dumps(obj)\n",
    "json.dumps() # 将python对象编码成Json字符串\n",
    "json.dump() # 将python中的对象转化成json储存到文件中\n",
    "\n",
    "json.loads() # 将Json字符串解码成python对象\n",
    "json.load() # 将文件中的json的格式转化成python对象提取出来; 将使用object_pairs_hook的返回值代替dict"
   ]
  },
  {
   "cell_type": "code",
   "execution_count": null,
   "metadata": {},
   "outputs": [],
   "source": [
    "from json import *\n",
    "# f.write(JSONEncoder().encode(line)+'\\n') # 其中line是个字典"
   ]
  }
 ],
 "metadata": {
  "language_info": {
   "name": "python"
  },
  "orig_nbformat": 4
 },
 "nbformat": 4,
 "nbformat_minor": 2
}
