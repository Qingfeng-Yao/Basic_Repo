{
 "cells": [
  {
   "cell_type": "code",
   "execution_count": null,
   "metadata": {},
   "outputs": [],
   "source": [
    "import argparse\n",
    "# 参考链接：https://docs.python.org/zh-cn/3/library/argparse.html"
   ]
  },
  {
   "cell_type": "code",
   "execution_count": null,
   "metadata": {},
   "outputs": [],
   "source": [
    "# 创建一个解析器——创建ArgumentParser()对象\n",
    "parser = argparse.ArgumentParser() # 或parser = argparse.ArgumentParser(description)\n",
    "\n",
    "# 添加参数: 调用add_argument('--xxx')方法添加参数, 可缩略'-x'(当然也可直接用'-xxx', 这样的话在命令行提供参数值时也只用'-'), 也可提供多个'--xx'(一个简单, 一个复杂)\n",
    "    # 该函数的参数\n",
    "        # required: 可选参数是否可以省略(仅针对可选参数)\n",
    "        # action: 当参数在命令行中出现时使用的动作基本类型\n",
    "            # 'store': 存储参数的值, 这是默认的动作\n",
    "\t\t\t# 也可用type=bool定义布尔值\n",
    "        # nargs: 命令行参数应当消耗的数目\n",
    "            # '+': 会给出多个值, 然后聚集到一个列表中\n",
    "            # '+'和 '*' 类似\n",
    "\t\t# metavar: 用来控制部分命令行参数的显示, 它只是影响部分参数的显示信息, 不影响代码内部获取命令行参数的对象\n",
    "        # dest: 如果提供dest, 例如dest='datapath', 那么可以通过args.datapath访问该参数\n",
    "        # help\n",
    "        # type\n",
    "        # default='None'/default=None\n",
    "        # choices=[]\n",
    "\n",
    "args = parser.parse_args() \n",
    "# parser.print_help()"
   ]
  }
 ],
 "metadata": {
  "interpreter": {
   "hash": "40d3a090f54c6569ab1632332b64b2c03c39dcf918b08424e98f38b5ae0af88f"
  },
  "kernelspec": {
   "display_name": "Python 3.7.4 ('base')",
   "language": "python",
   "name": "python3"
  },
  "language_info": {
   "name": "python",
   "version": "3.7.4"
  },
  "orig_nbformat": 4
 },
 "nbformat": 4,
 "nbformat_minor": 2
}
