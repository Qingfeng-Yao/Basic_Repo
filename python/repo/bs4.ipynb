{
 "cells": [
  {
   "cell_type": "code",
   "execution_count": null,
   "metadata": {},
   "outputs": [],
   "source": [
    "from bs4 import BeautifulSoup"
   ]
  },
  {
   "cell_type": "code",
   "execution_count": null,
   "metadata": {},
   "outputs": [],
   "source": [
    "import re\n",
    "content = \"\"\n",
    "soup = BeautifulSoup(content) # content为字符串形式的网页内容\n",
    "for t in soup(['style', 'script']): \n",
    "\tt.extract()\n",
    "text = soup.get_text()\n",
    "\n",
    "text = re.sub('\\u3000', ' ', text)\n",
    "lines = [' '.join(line.split()) for line in text.splitlines()]\n",
    "text = '\\n'.join([line for line in lines if line])"
   ]
  }
 ],
 "metadata": {
  "language_info": {
   "name": "python"
  },
  "orig_nbformat": 4
 },
 "nbformat": 4,
 "nbformat_minor": 2
}
