{
 "cells": [
  {
   "cell_type": "code",
   "execution_count": null,
   "metadata": {},
   "outputs": [],
   "source": [
    "import matplotlib\n",
    "matplotlib.use('Agg')\n",
    "import matplotlib.pyplot as plt"
   ]
  },
  {
   "cell_type": "code",
   "execution_count": null,
   "metadata": {},
   "outputs": [],
   "source": [
    "x_vals, y_vals = [], []\n",
    "plt.clf()\n",
    "plt.plot(x_vals, y_vals)\n",
    "plt.xlabel('iteration')\n",
    "plt.ylabel('name')\n",
    "plt.savefig('xxx.jpg')"
   ]
  },
  {
   "cell_type": "code",
   "execution_count": null,
   "metadata": {},
   "outputs": [],
   "source": [
    "x, sigmoid_prob = [], []\n",
    "plt.plot(x, sigmoid_prob, label=\"Sigmoid\")\n",
    "plt.legend() # 图例, 会显示label的内容\n",
    "plt.tight_layout() # 会自动调整子图参数, 使之填充整个图像区域\n",
    "plt.show()"
   ]
  }
 ],
 "metadata": {
  "language_info": {
   "name": "python"
  },
  "orig_nbformat": 4
 },
 "nbformat": 4,
 "nbformat_minor": 2
}
