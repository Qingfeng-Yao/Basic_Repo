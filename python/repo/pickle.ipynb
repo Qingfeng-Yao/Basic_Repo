{
 "cells": [
  {
   "cell_type": "code",
   "execution_count": null,
   "metadata": {},
   "outputs": [],
   "source": [
    "import pickle"
   ]
  },
  {
   "cell_type": "code",
   "execution_count": null,
   "metadata": {},
   "outputs": [],
   "source": [
    "# 序列化Python对象; 把变量从内存中变成可存储或传输的过程\n",
    "f = open('somefile', 'wb')   \n",
    "pickle.dump(data, f) \n",
    "# 为了将一个对象转储为一个字符串, 可以使用pickle.dumps()\n",
    "s = pickle.dumps(data)\n",
    "\n",
    "# 反序列化:把变量内容从序列化的对象重新读到内存里\n",
    "# 为了从字节流中恢复一个对象, 使用pickle.load()或pickle.loads()函数\n",
    "f = open('somefile', 'rb')   \n",
    "data = pickle.load(f, encoding='latin1')\n",
    "data = pickle.loads(s)"
   ]
  },
  {
   "cell_type": "code",
   "execution_count": null,
   "metadata": {},
   "outputs": [],
   "source": [
    "pickle.HIGHEST_PROTOCOL\n",
    "# 这是一个整数, 表示最高可用的协议版本\n",
    "# 这个值可以作为参数protocol传给函数dump()和dumps()\n",
    "# 对应的协议5是3.8中的\n",
    "\n",
    "pickle.DEFAULT_PROTOCOL\n",
    "# 这是一个整数, 表示用来pickling的默认协议版本\n",
    "# 可能比pickle.HIGHEST_PROTOCOL小\n",
    "# 目前默认的协议版本是3, 协议3是专门为python3设计的一种新的协议"
   ]
  }
 ],
 "metadata": {
  "language_info": {
   "name": "python"
  },
  "orig_nbformat": 4
 },
 "nbformat": 4,
 "nbformat_minor": 2
}
